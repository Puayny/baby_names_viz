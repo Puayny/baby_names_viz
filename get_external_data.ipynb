{
 "cells": [
  {
   "cell_type": "markdown",
   "metadata": {},
   "source": [
    "### Get data from external sources for further analysis"
   ]
  },
  {
   "cell_type": "markdown",
   "metadata": {},
   "source": [
    "#### Get list of biblical names from Wikipedia"
   ]
  },
  {
   "cell_type": "code",
   "execution_count": 282,
   "metadata": {},
   "outputs": [],
   "source": [
    "import pandas as pd\n",
    "import requests, string, time, re, itertools\n",
    "from bs4 import BeautifulSoup\n",
    "from tqdm.notebook import tqdm\n",
    "from collections import Counter\n",
    "\n",
    "from matplotlib import pyplot as plt\n",
    "import seaborn as sns\n",
    "import plotly.express as px"
   ]
  },
  {
   "cell_type": "code",
   "execution_count": 200,
   "metadata": {},
   "outputs": [],
   "source": [
    "def find_all_names_in_page(html):\n",
    "    all_names = []\n",
    "    soup = BeautifulSoup(html)\n",
    "    header_element = soup.find(attrs={\"class\":\"mw-headline\"}).find_parent()\n",
    "    curr_element = header_element\n",
    "    while curr_element.find(text=\"References\") is None or curr_element.find(attrs={\"id\":\"References\"}) is None:\n",
    "        # Sometimes ul element is nested, sometimes it's not\n",
    "        ul_elements = curr_element.find_all(\"ul\", recursive=True)\n",
    "        if len(ul_elements) == 0 and curr_element.name == \"ul\":\n",
    "            ul_elements = [curr_element]\n",
    "        # Loop through each li element of each ul element, and extract name\n",
    "        for ul_element in ul_elements:\n",
    "            li_elements = ul_element.find_all(\"li\")\n",
    "            names = get_names_from_li_elements(li_elements)\n",
    "            all_names.extend(names)\n",
    "        curr_element = curr_element.find_next_sibling()\n",
    "    return all_names\n",
    "    \n",
    "def get_names_from_li_elements(li_elements):\n",
    "    names = []\n",
    "    for li_element in li_elements:\n",
    "        # Generally, the name is the first word of each li element \n",
    "        # (reached this conclusion after a few iterations)\n",
    "        name = re.match(\"([a-zA-Z-]+)\", li_element.text).groups()[0]\n",
    "        names.append(name.strip().lower())\n",
    "    return names"
   ]
  },
  {
   "cell_type": "code",
   "execution_count": 201,
   "metadata": {},
   "outputs": [
    {
     "data": {
      "application/vnd.jupyter.widget-view+json": {
       "model_id": "37b0a1ab28b54aa092703d1c79c17c7e",
       "version_major": 2,
       "version_minor": 0
      },
      "text/plain": [
       "HBox(children=(FloatProgress(value=0.0, max=26.0), HTML(value='')))"
      ]
     },
     "metadata": {},
     "output_type": "display_data"
    },
    {
     "name": "stdout",
     "output_type": "stream",
     "text": [
      "\n"
     ]
    }
   ],
   "source": [
    "base_url = \"https://en.wikipedia.org/wiki/List_of_biblical_names_starting_with_\"\n",
    "failed_letters = []\n",
    "all_names = {}\n",
    "\n",
    "for letter in tqdm(string.ascii_uppercase):\n",
    "    tries_count = 0\n",
    "    req = requests.get(f\"{base_url}{letter}\")\n",
    "    # Try three times to load the wiki page\n",
    "    while req.status_code != 200:\n",
    "        time.sleep(tries_count**2)\n",
    "        req = requests.get(f\"{base_url}{letter}\")\n",
    "        tries_count += 1\n",
    "        if tries_count >= 3:\n",
    "            failed_letters.append(letter)\n",
    "            break\n",
    "    \n",
    "    if req.status_code == 200:\n",
    "        # Page loaded successfully, find names\n",
    "        curr_names = find_all_names_in_page(req.text)\n",
    "        all_names[letter.lower()] = curr_names\n",
    "            "
   ]
  },
  {
   "cell_type": "code",
   "execution_count": 202,
   "metadata": {},
   "outputs": [
    {
     "data": {
      "text/plain": [
       "['W', 'X']"
      ]
     },
     "execution_count": 202,
     "metadata": {},
     "output_type": "execute_result"
    }
   ],
   "source": [
    "# Which pages failed\n",
    "failed_letters"
   ]
  },
  {
   "cell_type": "code",
   "execution_count": 203,
   "metadata": {},
   "outputs": [],
   "source": [
    "def get_duplicated_names(names):\n",
    "    names_c = Counter(names)\n",
    "    dup_names = []\n",
    "    for name_count in names_c.most_common():\n",
    "        if name_count[1] > 1:\n",
    "            dup_names.append(name_count)\n",
    "        else:\n",
    "            break\n",
    "    return dup_names"
   ]
  },
  {
   "cell_type": "code",
   "execution_count": 204,
   "metadata": {
    "scrolled": true
   },
   "outputs": [
    {
     "name": "stdout",
     "output_type": "stream",
     "text": [
      "b has 1 duplicate name(s)\n",
      "[('barachel', 2)]\n",
      "\n",
      "e has 2 duplicate name(s)\n",
      "[('elhanan', 2), ('eli', 2)]\n",
      "\n",
      "j has 1 duplicate name(s)\n",
      "[('jesus', 2)]\n",
      "\n",
      "m has 1 duplicate name(s)\n",
      "[('mishael', 2)]\n",
      "\n",
      "p has 1 duplicate name(s)\n",
      "[('palti', 2)]\n",
      "\n",
      "r has 1 duplicate name(s)\n",
      "[('rahab', 2)]\n",
      "\n",
      "s has 2 duplicate name(s)\n",
      "[('shaveh', 2), ('shiloh', 2)]\n",
      "\n"
     ]
    }
   ],
   "source": [
    "# Check whether there are duplicate names (might indicate unexpected formatting/error)\n",
    "# Seems right\n",
    "for letter, names in all_names.items():\n",
    "    names_set = set(names)\n",
    "    if len(names_set) != len(names):\n",
    "        print(f\"{letter} has {len(names) - len(names_set)} duplicate name(s)\")\n",
    "        print(get_duplicated_names(names))\n",
    "        print()"
   ]
  },
  {
   "cell_type": "code",
   "execution_count": 240,
   "metadata": {},
   "outputs": [
    {
     "name": "stdout",
     "output_type": "stream",
     "text": [
      "Num unique names per letter:\n"
     ]
    },
    {
     "data": {
      "image/png": "[encoded data removed]",
      "text/plain": [
       "<Figure size 432x288 with 1 Axes>"
      ]
     },
     "metadata": {
      "needs_background": "light"
     },
     "output_type": "display_data"
    }
   ],
   "source": [
    "# Check num. unique names per letter\n",
    "# A quick Wiki check shows it should be right\n",
    "print(\"Num unique names per letter:\")\n",
    "letter_name_count = {letter: len(set(names)) for letter, names in all_names.items()}\n",
    "sns.barplot(x=list(letter_name_count.keys()), y=list(letter_name_count.values()), color=\"lightblue\");"
   ]
  },
  {
   "cell_type": "code",
   "execution_count": 210,
   "metadata": {},
   "outputs": [
    {
     "name": "stdout",
     "output_type": "stream",
     "text": [
      "Names with unexpected characters:\n"
     ]
    }
   ],
   "source": [
    "# Check whether names contain unexpected characters\n",
    "print(\"Names with unexpected characters:\")\n",
    "expected_charset = set(string.ascii_lowercase + \"-\")\n",
    "for letter, names in all_names.items():\n",
    "    for name in names:\n",
    "        if len(set(name) - expected_charset) > 0:\n",
    "            print(letter, name)"
   ]
  },
  {
   "cell_type": "code",
   "execution_count": 284,
   "metadata": {},
   "outputs": [
    {
     "name": "stdout",
     "output_type": "stream",
     "text": [
      "[(2, 11),\n",
      " (3, 76),\n",
      " (4, 236),\n",
      " (5, 553),\n",
      " (6, 609),\n",
      " (7, 453),\n",
      " (8, 316),\n",
      " (9, 197),\n",
      " (10, 103),\n",
      " (11, 59),\n",
      " (12, 38),\n",
      " (13, 19),\n",
      " (14, 16),\n",
      " (15, 10),\n",
      " (16, 7),\n",
      " (17, 3),\n",
      " (18, 1),\n",
      " (21, 1)]\n"
     ]
    }
   ],
   "source": [
    "# Check distribution of length of names\n",
    "names_stats = {name: len(name) for name in list(itertools.chain(*all_names.values()))}\n",
    "names_stats = pd.Series(names_stats)\n",
    "\n",
    "names_len_counter = Counter(names_stats)\n",
    "pprint(sorted(names_len_counter.items()))"
   ]
  },
  {
   "cell_type": "code",
   "execution_count": 285,
   "metadata": {},
   "outputs": [
    {
     "data": {
      "text/plain": [
       "maher-shalal-hash-baz    21\n",
       "dtype: int64"
      ]
     },
     "execution_count": 285,
     "metadata": {},
     "output_type": "execute_result"
    }
   ],
   "source": [
    "# Length ranges from 2 to 15. Let's sanity check 2 and [17 - 21] letter names\n",
    "names_stats[names_stats==21]"
   ]
  },
  {
   "cell_type": "code",
   "execution_count": 288,
   "metadata": {},
   "outputs": [],
   "source": [
    "# Save names\n",
    "with open(\"data/data_external/biblical_names.txt\", \"w\") as f:\n",
    "    f.write(\",\".join(list(itertools.chain(*all_names.values()))))"
   ]
  }
 ],
 "metadata": {
  "kernelspec": {
   "display_name": "Python (foresky_data_explorer)",
   "language": "python",
   "name": "foresky_data_explorer"
  },
  "language_info": {
   "codemirror_mode": {
    "name": "ipython",
    "version": 3
   },
   "file_extension": ".py",
   "mimetype": "text/x-python",
   "name": "python",
   "nbconvert_exporter": "python",
   "pygments_lexer": "ipython3",
   "version": "3.7.5"
  }
 },
 "nbformat": 4,
 "nbformat_minor": 2
}
